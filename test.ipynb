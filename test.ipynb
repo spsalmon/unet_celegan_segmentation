{
 "cells": [
  {
   "cell_type": "code",
   "execution_count": 5,
   "metadata": {},
   "outputs": [],
   "source": [
    "import multiprocessing as mp\n",
    "import tifffile as ti\n",
    "import numpy as np\n",
    "import os \n",
    "\n",
    "dir = \"/mnt/external.data/TowbinLab/spsalmon/shallow_chambers_database/ch1_3/\"\n",
    "\n",
    "\n",
    "def get_number_of_classes_img(img):\n",
    "    return np.max(ti.imread(img)) + 1\n",
    "\n",
    "def get_number_of_channels_img(img):\n",
    "    return ti.imread(img).shape[0]\n",
    "\n",
    "def get_number_of_classes_database(dir): \n",
    "    imgs = [os.path.join(dir, x) for x in os.listdir(dir)]\n",
    "    with mp.Pool(32) as pool:\n",
    "        nb_classes = pool.map(get_number_of_classes_img, imgs)\n",
    "    return np.max(nb_classes)\n",
    "\n",
    "def get_number_of_channels_database(dir): \n",
    "    imgs = [os.path.join(dir, x) for x in os.listdir(dir)]\n",
    "    with mp.Pool(32) as pool:\n",
    "        nb_channels = pool.map(get_number_of_channels_img, imgs)\n",
    "    return np.min(nb_channels), np.max(nb_channels)"
   ]
  },
  {
   "cell_type": "code",
   "execution_count": 6,
   "metadata": {},
   "outputs": [
    {
     "name": "stdout",
     "output_type": "stream",
     "text": [
      "(2, 2)\n"
     ]
    }
   ],
   "source": [
    "print(get_number_of_channels_database(dir))"
   ]
  }
 ],
 "metadata": {
  "kernelspec": {
   "display_name": "Python 3",
   "language": "python",
   "name": "python3"
  },
  "language_info": {
   "codemirror_mode": {
    "name": "ipython",
    "version": 3
   },
   "file_extension": ".py",
   "mimetype": "text/x-python",
   "name": "python",
   "nbconvert_exporter": "python",
   "pygments_lexer": "ipython3",
   "version": "3.8.10 (default, Nov 14 2022, 12:59:47) \n[GCC 9.4.0]"
  },
  "orig_nbformat": 4,
  "vscode": {
   "interpreter": {
    "hash": "31f2aee4e71d21fbe5cf8b01ff0e069b9275f58929596ceb00d14d90e3e16cd6"
   }
  }
 },
 "nbformat": 4,
 "nbformat_minor": 2
}
